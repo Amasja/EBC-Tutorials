{
 "cells": [
  {
   "cell_type": "markdown",
   "metadata": {},
   "source": [
    "# Python am EBC\n",
    "\n",
    "In diesem Notebook sind Beispiel zu den Themen dargestellt, die im Workshop angesprochen worden sind.\n"
   ]
  },
  {
   "cell_type": "markdown",
   "metadata": {},
   "source": [
    "## Verwendung von Objektorientierung zur effizienten Auswertung\n",
    "Mittels Objektorientierung ist es häufig leicht möglich, Programmcode mehrfach zu verwenden. Insbesondere bei vergleichenden Untersuchungen, bei denen immer wieder ähnliche Daten anfallen ist dies von großem Vorfall. Objektorientierung allerdings eine etwas gründlicher Vorplanung. \n",
    "\n",
    "Im folgenden wird eine Basisklasse für Simulations oder Messdaten erstellt:"
   ]
  },
  {
   "cell_type": "code",
   "execution_count": null,
   "metadata": {
    "collapsed": false
   },
   "outputs": [],
   "source": [
    "%matplotlib notebook\n",
    "import os.path\n",
    "import pandas as pd\n",
    "import pylab as plt\n",
    "\n",
    "class BaseData(object):\n",
    "    ''' Keep simulation or measurement data\n",
    "    \n",
    "        Parameters\n",
    "        -----------\n",
    "        filename : str\n",
    "            path to filename\n",
    "            \n",
    "        name : str, optional [None]\n",
    "            It is always a good idea to label your data, if None, name will\n",
    "            be determined from filename\n",
    "        \n",
    "        Attributes\n",
    "        -----------\n",
    "        data : pd.Series\n",
    "            data read from result file, c\n",
    "            \n",
    "        savedir : str\n",
    "            path were results/figures etc. should be saved, defaults to 'D:/'\n",
    "    '''\n",
    "    \n",
    "    def __init__(self, filename, name=None):\n",
    "        self.filename = filename\n",
    "        self.savedir = 'D:/'\n",
    "        self.data = self.read_data()\n",
    "        if name is None:\n",
    "            _dummy = (os.path.basename(filename).split('.')[:-1]) # Get the filename without suffix\n",
    "            self.name = ''.join(_dummy) # Rebuild a string from resulting list\n",
    "        else:\n",
    "            self.name = name\n",
    "            \n",
    "        \n",
    "    def read_data(self):\n",
    "        ''' Read data from input file\n",
    "        \n",
    "            Returns:\n",
    "            ----------\n",
    "            pd.DataFrame\n",
    "        '''\n",
    "        data = pd.Series.from_csv(self.filename, header=0)\n",
    "        return data\n",
    "    \n",
    "    def plot_data(self, label=None, fig=None, ax=None):\n",
    "        ''' Plot the data into a figure\n",
    "        \n",
    "            Parameters:\n",
    "            ----------\n",
    "            label : str, optional [self.name]\n",
    "                Identifier for this function (used in the legend)\n",
    "            fig : matplotlib.figure instance, optional [None]\n",
    "                Figure to plot into, will be created if None\n",
    "            ax : matplotlib.axes instance, optional [None]\n",
    "                Axes to plot into, will be created if None\n",
    "        \n",
    "            Returns:\n",
    "            ----------\n",
    "            None\n",
    "            \n",
    "            Notes:\n",
    "            ----------\n",
    "            In the EBC-Python Library exist an advanced helper to create figures and axes\n",
    "            (the first few lines in this code), see base_functions.reusable_helpers.helper_figures\n",
    "        \n",
    "        '''\n",
    "        if fig is None and ax is None:\n",
    "            fig, ax = plt.subplots()\n",
    "        elif fig is None:\n",
    "            fig = ax.get_figure()\n",
    "        elif ax is None:\n",
    "            ax = fig.add_axes()\n",
    "        if label is None:\n",
    "            label = self.name\n",
    "        self.data.plot(ax=ax, label=label)\n",
    "        ax.set_title('Leistung über Ventilstellung' )\n",
    "        ax.set_ylabel('Leistung in kW')\n",
    "        ax.legend()\n",
    "        \n",
    "a = BaseData('Referenz.csv')\n",
    "b = BaseData('Messung1.csv')\n",
    "a.plot_data('Referenz')\n",
    "\n",
    "\n"
   ]
  },
  {
   "cell_type": "markdown",
   "metadata": {},
   "source": [
    "Die Daten der beiden lassen sich jetzt aber auch problemlos zusammen darstellen"
   ]
  },
  {
   "cell_type": "code",
   "execution_count": null,
   "metadata": {
    "collapsed": false
   },
   "outputs": [],
   "source": [
    "fig, ax = plt.subplots() # Leere Figure mit Achsen erstellen\n",
    "a.plot_data('Referenz',fig=fig, ax=ax)# Nutzen der optionalen Parameter\n",
    "b.plot_data(fig=fig, ax=ax) # Label muss nicht angegeben werden"
   ]
  },
  {
   "cell_type": "markdown",
   "metadata": {},
   "source": [
    "Mit dem Programmcode werden beim Ablauf sowohl ein Referenzwert als auch eine erste Messung eingelesen. Für weitere Messungen wurde auf das überlegene Programm \"Excel\" gewechselt, damit kann die ursprüngliche Klasse die Daten leider nicht einlesen, alle anderen Funktionen sollten aber noch erhalten bleiben. Insofern wird ein neues Objekt von BaseData abgeleitet und die Einleseprozedur angepasst. Alle anderen Funktionen werden von BaseData geeerbt, einschließlich der \\__init__ Prozedur"
   ]
  },
  {
   "cell_type": "code",
   "execution_count": null,
   "metadata": {
    "collapsed": false
   },
   "outputs": [],
   "source": [
    "class NewData(BaseData):\n",
    "    ''' Modified Version of BaseData, only reading Method is changed\n",
    "    '''\n",
    "          \n",
    "    def read_data(self):\n",
    "        ''' Read data from input file\n",
    "        \n",
    "            Returns:\n",
    "            ----------\n",
    "            pd.DataFrame\n",
    "        '''\n",
    "        data = pd.read_excel(self.filename, index_col = 0)\n",
    "        data=data.iloc[:,0] # Transform pd.DataFrame to pd.Series\n",
    "        return data\n",
    "c = NewData('Messung2.xlsx')\n"
   ]
  },
  {
   "cell_type": "markdown",
   "metadata": {},
   "source": [
    "Die Daten können jetzt in eine Klasse überführt werden, die eine Auswertung ermöglichen"
   ]
  },
  {
   "cell_type": "code",
   "execution_count": null,
   "metadata": {
    "collapsed": false
   },
   "outputs": [],
   "source": [
    "class Comparison(object):\n",
    "    def __init__(self):\n",
    "        self.members = [] # Keep a list of the added results (in contrast to the dictionary below, this will keep the order the data were added)\n",
    "        self.members_by_name = {} # If you would like to access them by name directly\n",
    "        self.reference = None\n",
    "        \n",
    "    def add_result(self, obj):\n",
    "        ''' Add results of one the measurement the attribute `members`.\n",
    "\n",
    "        Parameters:\n",
    "        ----------\n",
    "        obj : Instance of BaseData (or inherited)\n",
    "\n",
    "        Returns:\n",
    "        ----------\n",
    "        None\n",
    "\n",
    "        '''\n",
    "        assert isinstance(obj, BaseData), 'Obj must be an instance of BaseData, but got {0}'.format(type(obj))\n",
    "        assert obj.name not in list(self.members_by_name.keys()), 'Measurement with name {0} already exists'.format(obj.name)\n",
    "        self.members.append(obj)\n",
    "        self.members_by_name[obj.name] = obj\n",
    "        \n",
    "    def set_reference(self, obj):\n",
    "        assert isinstance(obj, BaseData), 'Obj must be an instance of BaseData, but got {0}'.format(type(obj))\n",
    "        self.reference = obj\n",
    "        \n",
    "        \n",
    "    def plot_relative(self, result, fig, ax):\n",
    "        ''' Plot the measured data relative to the reference data\n",
    "        \n",
    "            Parameters:\n",
    "            ----------\n",
    "            result : BaseData object\n",
    "                The result that should be plotted\n",
    "                \n",
    "            fig : matplotlib.figure instance\n",
    "                Figure to plot into, will be created if None\n",
    "                \n",
    "            ax : matplotlib.axes instance\n",
    "                Axes to plot into, will be created if None\n",
    "        '''\n",
    "        rel = result.data / self.reference.data\n",
    "        rel.plot(ax=ax, label = result.name)\n",
    "        ax.set_ylabel('Relative Leistung zur Referenz')\n",
    "        ax.legend()\n",
    "\n",
    "# Daten zur Klasse hinzufügen\n",
    "all = Comparison()\n",
    "all.add_result(a)\n",
    "# all.add_result(a) # Adding this a second time is prevented by the assert statement\n",
    "all.add_result(b)\n",
    "all.add_result(c)\n",
    "all.set_reference(all.members_by_name['Referenz'])\n",
    "print(all.members)\n",
    "\n",
    "# Alle Ergebnisse in einen Plot\n",
    "fig, ax = plt.subplots()\n",
    "for member in all.members:\n",
    "    all.plot_relative(member, fig, ax)\n",
    "    \n",
    "# Alternativ als Plot nebeneinander\n",
    "fig, ax = plt.subplots(2, sharex=True)\n",
    "for i, member in enumerate(all.members[1:]):\n",
    "    all.plot_relative(member, fig, ax[i])\n",
    "ax[0].set_xlabel('') # Doppeltes Label an der X-Achse entfernen"
   ]
  },
  {
   "cell_type": "code",
   "execution_count": null,
   "metadata": {
    "collapsed": true
   },
   "outputs": [],
   "source": []
  }
 ],
 "metadata": {
  "kernelspec": {
   "display_name": "Python 3",
   "language": "python",
   "name": "python3"
  },
  "language_info": {
   "codemirror_mode": {
    "name": "ipython",
    "version": 3
   },
   "file_extension": ".py",
   "mimetype": "text/x-python",
   "name": "python",
   "nbconvert_exporter": "python",
   "pygments_lexer": "ipython3",
   "version": "3.4.3"
  }
 },
 "nbformat": 4,
 "nbformat_minor": 0
}
